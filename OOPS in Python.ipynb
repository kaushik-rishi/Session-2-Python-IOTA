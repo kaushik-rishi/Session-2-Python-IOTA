{
 "cells": [
  {
   "cell_type": "markdown",
   "metadata": {},
   "source": [
    "## Object Oriented Programming in Python\n",
    "\n",
    "\n",
    "#### Goals For this Session:\n",
    "- Understand the basics of Object oriented programming (Advantages of it over procedural programming)\n",
    "- Understand Classes and Objects.\n",
    "    - `self` keyword\n",
    "    - Methods\n",
    "    - Properties\n",
    "    - `__init__` constructor \n",
    "- Dunder Methods (Special Methods)\n",
    "- Inheritance\n",
    "    - How it works?\n",
    "    - the `super` keyword\n",
    "\n",
    "\n",
    "#### Is Python Object Oriented?\n",
    "\n",
    "Short answer : Yes.\n",
    "\n",
    "Python follows Object-oriented programming paradigm. Which means that Python has classes, inheritance, and all the usual OOPs concepts with the exception of the ability to use the private keyword with variables in classes."
   ]
  },
  {
   "cell_type": "markdown",
   "metadata": {},
   "source": [
    "### Objects in Disguise\n",
    "You may be un-familiar with object oriented progamming in python but technically speaking you've been using it all the time.\n",
    "##### Almost everything in Python is an object, including its properties and methods.\n",
    "\n",
    "When we declare an integer using a syntax something like:\n",
    "```py\n",
    "# integer\n",
    "a = 1\n",
    "\n",
    "# string\n",
    "b = \"rishi\"\n",
    "\n",
    "# list \n",
    "l = []\n",
    "```"
   ]
  },
  {
   "cell_type": "code",
   "execution_count": null,
   "metadata": {},
   "outputs": [],
   "source": [
    "a = 1\n",
    "b = \"rishi\"\n",
    "l = []\n",
    "print(type(a))\n",
    "print(type(b))\n",
    "print(type(l))"
   ]
  },
  {
   "cell_type": "markdown",
   "metadata": {},
   "source": [
    "Primitive types in python are not like the ones that we use in C++ or Java.\n",
    "\n",
    "\n",
    "Here, they are an object of their respective classes.\n",
    "\n",
    "Like\n",
    "`a=1`\n",
    "Here 1 is an object of the integer class (`class <'int'>`)."
   ]
  },
  {
   "cell_type": "code",
   "execution_count": null,
   "metadata": {},
   "outputs": [],
   "source": [
    "def print_smtg():\n",
    "    print(\"something\")"
   ]
  },
  {
   "cell_type": "code",
   "execution_count": null,
   "metadata": {},
   "outputs": [],
   "source": [
    "print(type(print_smtg))"
   ]
  },
  {
   "cell_type": "markdown",
   "metadata": {},
   "source": [
    "Here, The function `print_smtg` is also an object of the 'function' class"
   ]
  },
  {
   "cell_type": "markdown",
   "metadata": {},
   "source": [
    "#### An observation to be noted"
   ]
  },
  {
   "cell_type": "code",
   "execution_count": null,
   "metadata": {},
   "outputs": [],
   "source": [
    "integer_1 = 1\n",
    "integer_2 = 10\n",
    "\n",
    "string_1 = \"Freaky\"\n",
    "string_2 = \"NeEr\""
   ]
  },
  {
   "cell_type": "code",
   "execution_count": null,
   "metadata": {},
   "outputs": [],
   "source": [
    "string_1.upper() # returns the string => Upper case"
   ]
  },
  {
   "cell_type": "code",
   "execution_count": null,
   "metadata": {},
   "outputs": [],
   "source": [
    "string_2.upper()"
   ]
  },
  {
   "cell_type": "code",
   "execution_count": null,
   "metadata": {},
   "outputs": [],
   "source": [
    "# 1 -> 1\n",
    "integer_1.bit_length()"
   ]
  },
  {
   "cell_type": "code",
   "execution_count": null,
   "metadata": {},
   "outputs": [],
   "source": [
    "# 10 -> 1010\n",
    "integer_2.bit_length()"
   ]
  },
  {
   "cell_type": "code",
   "execution_count": null,
   "metadata": {},
   "outputs": [],
   "source": [
    "string_1.bit_length()"
   ]
  },
  {
   "cell_type": "code",
   "execution_count": null,
   "metadata": {},
   "outputs": [],
   "source": [
    "integer_1.upper()"
   ]
  },
  {
   "cell_type": "markdown",
   "metadata": {},
   "source": [
    "### We can observe that:\n",
    "we are able to call the `bit_length` method on integer_1 and integer_2\n",
    "\n",
    "and we are able to call the `upper` method on the string_1 and string_2\n",
    "\n",
    "But, neither are we able to call the `upper` method on the integer_1 nor are we able to call the `bit_length` method on string1.\n",
    "\n",
    "What that actually means is we are able to call certain methods on a certain category `(more specifically a class)` of objects. `(as we've aldready seen that integers and strings are objects of 'int' and 'str' classes)`\n",
    "\n",
    "It's here that we can come to a conclusion that there are certain methods attached to a certain class."
   ]
  },
  {
   "cell_type": "markdown",
   "metadata": {},
   "source": [
    "So we know all these things are objects, so how can we create our own Object types? That is where the ```class``` keyword comes in."
   ]
  },
  {
   "cell_type": "code",
   "execution_count": null,
   "metadata": {},
   "outputs": [],
   "source": [
    "class Person:\n",
    "    def walk(self):\n",
    "        print(\"Walking\")\n",
    "    def talk(self):\n",
    "        print(\"talking\")"
   ]
  },
  {
   "cell_type": "markdown",
   "metadata": {},
   "source": [
    "Please ignore the `self` thing for a minute. We'll come to it again."
   ]
  },
  {
   "cell_type": "code",
   "execution_count": null,
   "metadata": {},
   "outputs": [],
   "source": [
    "# creating an instance of the Person class\n",
    "p = Person()\n",
    "# <inst_name> = <class_name>()\n"
   ]
  },
  {
   "cell_type": "code",
   "execution_count": null,
   "metadata": {},
   "outputs": [],
   "source": [
    "# previosly when we have printed the type of an integer we got <class 'int'>\n",
    "print(type(p))"
   ]
  },
  {
   "cell_type": "markdown",
   "metadata": {},
   "source": [
    "what `<class '__main__.Person'>` this represents is that `p` is an object of the class Person and the `__main__` is to tell us that the `Person` class is a part of the `__main__` module."
   ]
  },
  {
   "cell_type": "code",
   "execution_count": null,
   "metadata": {},
   "outputs": [],
   "source": [
    "# Invoking the methods\n",
    "\n",
    "p.walk()\n",
    "p.talk()"
   ]
  },
  {
   "cell_type": "code",
   "execution_count": null,
   "metadata": {},
   "outputs": [],
   "source": [
    "a = 1\n",
    "# implicitly (for int, str)\n",
    "a = int(1)"
   ]
  },
  {
   "cell_type": "markdown",
   "metadata": {},
   "source": [
    "### Adding properties to an object\n",
    "- we can add any property to an object using the `dot notation`"
   ]
  },
  {
   "cell_type": "code",
   "execution_count": null,
   "metadata": {},
   "outputs": [],
   "source": [
    "p = Person()\n",
    "\n",
    "# adding a name to the person\n",
    "p.name = \"Freaky\"\n",
    "\n",
    "# adding an age\n",
    "p.age = 19\n",
    "\n",
    "print(p.name)\n",
    "print(p.age)"
   ]
  },
  {
   "cell_type": "code",
   "execution_count": null,
   "metadata": {},
   "outputs": [],
   "source": [
    "# 25 objects"
   ]
  },
  {
   "cell_type": "markdown",
   "metadata": {},
   "source": [
    "### `__init__` constructor\n",
    "- `__init__` is a reserved method in python classes\n",
    "- The `__init__`method is called the constructor\n",
    "- It is called whenever an object is created from a class\n",
    "- It allows us to initialise the attributes of the class and also the other things that we want to do when an object is created.\n",
    "\n",
    "### `self` keyword\n",
    "- `self` should be the first parameter of every method that we create in class.\n",
    "- `self` parameter refers to the current instance of the class\n",
    "- The main use of `self` keyword is to access the attributes of the class."
   ]
  },
  {
   "cell_type": "code",
   "execution_count": null,
   "metadata": {},
   "outputs": [],
   "source": [
    "class Person:\n",
    "    \n",
    "    # constructor\n",
    "    def __init__(self, name, age):\n",
    "        self.name = name\n",
    "        self.age = age\n",
    "\n",
    "    # method\n",
    "    def walk(self):\n",
    "        print(\"Walking\")"
   ]
  },
  {
   "cell_type": "code",
   "execution_count": null,
   "metadata": {},
   "outputs": [],
   "source": [
    "# this is going to give us an error\n",
    "\n",
    "p = Person()"
   ]
  },
  {
   "cell_type": "code",
   "execution_count": null,
   "metadata": {},
   "outputs": [],
   "source": [
    "p = Person(\"Freaky\", 19)"
   ]
  },
  {
   "cell_type": "code",
   "execution_count": null,
   "metadata": {},
   "outputs": [],
   "source": [
    "p.walk()"
   ]
  },
  {
   "cell_type": "markdown",
   "metadata": {},
   "source": [
    "#### object address"
   ]
  },
  {
   "cell_type": "code",
   "execution_count": null,
   "metadata": {},
   "outputs": [],
   "source": [
    "print(p) # address of the object in memory"
   ]
  },
  {
   "cell_type": "markdown",
   "metadata": {},
   "source": [
    "Showing self refers to the **current instance** of the class"
   ]
  },
  {
   "cell_type": "code",
   "execution_count": null,
   "metadata": {},
   "outputs": [],
   "source": [
    "# to show self refers to the current instance of the class\n",
    "class Person:\n",
    "    \n",
    "    # constructor\n",
    "    def __init__(self, name, age):\n",
    "        print(self)\n",
    "        self.name = name\n",
    "        self.age = age\n",
    "    \n",
    "    # method\n",
    "    def walk(self):\n",
    "        print(self)\n",
    "        print(\"Walking\")"
   ]
  },
  {
   "cell_type": "code",
   "execution_count": null,
   "metadata": {},
   "outputs": [],
   "source": [
    "per = Person(\"Ram\", 20)\n",
    "per.walk()\n",
    "print(per)"
   ]
  },
  {
   "cell_type": "code",
   "execution_count": null,
   "metadata": {},
   "outputs": [],
   "source": [
    "per.walk()\n",
    "# calling the walk method of person class passing per as the self parameter\n",
    "# Person.walk(per)"
   ]
  },
  {
   "cell_type": "code",
   "execution_count": null,
   "metadata": {},
   "outputs": [],
   "source": [
    "# Accessing object properties\n",
    "print(per.age)\n",
    "print(per.name)"
   ]
  },
  {
   "cell_type": "code",
   "execution_count": null,
   "metadata": {},
   "outputs": [],
   "source": [
    "# Deleting Object Properties\n",
    "del p.age"
   ]
  },
  {
   "cell_type": "code",
   "execution_count": null,
   "metadata": {},
   "outputs": [],
   "source": [
    "# Error: (AttributeError)\n",
    "\n",
    "print(p.age)"
   ]
  },
  {
   "cell_type": "code",
   "execution_count": null,
   "metadata": {},
   "outputs": [],
   "source": [
    "# Deleting an object\n",
    "\n",
    "del p"
   ]
  },
  {
   "cell_type": "code",
   "execution_count": null,
   "metadata": {},
   "outputs": [],
   "source": [
    "print(p)"
   ]
  },
  {
   "cell_type": "markdown",
   "metadata": {},
   "source": [
    "- `self` can be called anything but it's the standard python convention to call it `self`.\n",
    "- but calling the current instance as `self` is really a strong convention and it is sugguested not to change it.\n",
    "- consider any project we generally use the self keyword"
   ]
  },
  {
   "cell_type": "code",
   "execution_count": null,
   "metadata": {},
   "outputs": [],
   "source": [
    "# self is just a naming convention\n",
    "class Person:\n",
    "    \n",
    "    # constructor\n",
    "    def __init__(this, name, age):\n",
    "        this.name = name\n",
    "        this.age = age\n",
    "    \n",
    "    # method\n",
    "    def walk(this):\n",
    "        print(\"Walking\")"
   ]
  },
  {
   "cell_type": "code",
   "execution_count": null,
   "metadata": {},
   "outputs": [],
   "source": [
    "p = Person(\"Freaky\", 19)"
   ]
  },
  {
   "cell_type": "markdown",
   "metadata": {},
   "source": [
    "### Class Variables in python:\n",
    "- In python we also support class object attributes, these are similar to class variables\n",
    "- Class variables are the variables that are attached to the class and not to the object\n",
    "- They are common to all objects that are created of the same class (may be there are a million instances of the class)\n",
    "- We access them like:\n",
    "```py\n",
    "<className>.<classVariableName>\n",
    "```\n",
    "- this is how we access them both inside and outside the class"
   ]
  },
  {
   "cell_type": "code",
   "execution_count": null,
   "metadata": {},
   "outputs": [],
   "source": [
    "# Class Variables\n",
    "class Person:\n",
    "    \n",
    "    # count is a class variable\n",
    "    count = 0\n",
    "    \n",
    "    # constructor\n",
    "    def __init__(self, name, age):\n",
    "        self.name = name\n",
    "        self.age = age\n",
    "        Person.count += 1\n",
    "    \n",
    "    # method\n",
    "    def walk(self):\n",
    "        print(\"Walking\")"
   ]
  },
  {
   "cell_type": "code",
   "execution_count": null,
   "metadata": {},
   "outputs": [],
   "source": [
    "# Run this code snippet multiple times and look closely\n",
    "print(Person.count)\n",
    "p1 = Person(\"Freaky\", 19)\n",
    "print(Person.count)"
   ]
  },
  {
   "cell_type": "code",
   "execution_count": null,
   "metadata": {},
   "outputs": [],
   "source": [
    "p2 = Person(\"Neer\", 18)\n",
    "print(Person.count)"
   ]
  },
  {
   "cell_type": "code",
   "execution_count": null,
   "metadata": {},
   "outputs": [],
   "source": [
    "# The need for reducing the count when we delete an object\n",
    "\n",
    "list_of_persons = []\n",
    "\n",
    "for __ in range(5):\n",
    "    list_of_persons.append(Person(\"Noob\", 13))\n",
    "\n",
    "print(list_of_persons)\n",
    "print(Person.count)"
   ]
  },
  {
   "cell_type": "code",
   "execution_count": null,
   "metadata": {},
   "outputs": [],
   "source": [
    "for obj in l:\n",
    "    del obj\n",
    "\n",
    "print(Person.count)"
   ]
  },
  {
   "cell_type": "markdown",
   "metadata": {},
   "source": [
    "### Destructor in python\n",
    "##### Note : Constructor and Destructor are special methods (Which we will discuss about special methods later) \n",
    "- We can solve the problem faced above by using a destructor\n",
    "- Not only the above problem but sometimes we need to do many things when an object is deleted.\n",
    "- constructor is a special method that is called when we create an object.\n",
    "- destructor is a special method that is called when we delete an object."
   ]
  },
  {
   "cell_type": "code",
   "execution_count": null,
   "metadata": {},
   "outputs": [],
   "source": [
    "# Destructor\n",
    "class Person:\n",
    "    count = 0\n",
    "    \n",
    "    # constructor\n",
    "    def __init__(self, name, age):\n",
    "        self.name = name\n",
    "        self.age = age\n",
    "        print(\"Inside of Constructor Method\")\n",
    "        Person.count += 1\n",
    "    \n",
    "    # method\n",
    "    def walk(self):\n",
    "        print(\"Walking\")\n",
    "    \n",
    "    def __del__(self):\n",
    "        Person.count -= 1\n",
    "        print(\"Inside of destructor Method\")"
   ]
  },
  {
   "cell_type": "code",
   "execution_count": null,
   "metadata": {},
   "outputs": [],
   "source": [
    "# The need for reducing the count when we delete an object\n",
    "lop = []\n",
    "for i in range(5):\n",
    "    lop.append(Person(\"noob\", i))\n",
    "del lop[0]\n",
    "print(Person.count)"
   ]
  },
  {
   "cell_type": "code",
   "execution_count": null,
   "metadata": {},
   "outputs": [],
   "source": [
    "# The need for reducing the count when we delete an object\n",
    "lop = []\n",
    "Person.count=0\n",
    "\n",
    "for i in range(5):\n",
    "    lop.append(Person(\"noob\", i))\n",
    "print(Person.count)\n",
    "del lop[0]\n",
    "print(Person.count)\n",
    "del lop\n",
    "print(Person.count)"
   ]
  },
  {
   "cell_type": "markdown",
   "metadata": {},
   "source": [
    "### Dunder Methods\n",
    "- Also called as Special Methods (or) magic methods\n",
    "- Dunder methods are automatically called by the interpreter most of the time.\n",
    "- But we can also invoke them whenever we want.\n",
    "- We will be able to change some of the built-in behaviour of the classes.\n",
    "- We can implement operator overloading using these methods\n",
    "- These special methods are always surrounded by Double Underscores (`__`) (Thats why we call them dunder methods 😉)\n",
    "- first and the most common dunder method that you might have come accross is `__init__` and another one is `__del__`"
   ]
  },
  {
   "cell_type": "markdown",
   "metadata": {},
   "source": [
    "### Two most common dunder methods\n",
    "- Two most common dunder methods that we generally implement are `__repr__` and `__str__`\n",
    "- These are the methods that are implicitly called when we run `repr(<instance>)` on one of our objects or `str(<instance>)`\n",
    "- We can fix the problem of printing this vague address thing when we print out our Person object.\n",
    "- Let's talk about them."
   ]
  },
  {
   "cell_type": "code",
   "execution_count": null,
   "metadata": {},
   "outputs": [],
   "source": [
    "class Person:\n",
    "    def __init__(self, name, age):\n",
    "        self.name = name\n",
    "        self.age = age\n",
    "    \n",
    "    def walk(self):\n",
    "        print(\"Walking\")\n",
    "    \n",
    "    def increment_age(self):\n",
    "        self.age = self.age + 1\n",
    "    \n",
    "    # Used for debugging purposes\n",
    "    # This generally should return that string which can be used to recreate that object\n",
    "    def __repr__(self):\n",
    "        return f\"Person('{self.name}', {self.age})\"\n",
    "\n",
    "    # Used for printing the object to the user to understand the object (In human Readable Form)\n",
    "    def __str__(self):\n",
    "        return f\"Name : {self.name} | Age : {self.age}\""
   ]
  },
  {
   "cell_type": "code",
   "execution_count": null,
   "metadata": {},
   "outputs": [],
   "source": [
    "p = Person(\"Freaky\", 19)"
   ]
  },
  {
   "cell_type": "code",
   "execution_count": null,
   "metadata": {},
   "outputs": [],
   "source": [
    "print(str(p)) # implicitly p.__str__()\n",
    "print(repr(p)) # p.__repr__()"
   ]
  },
  {
   "cell_type": "code",
   "execution_count": null,
   "metadata": {},
   "outputs": [],
   "source": [
    "# this will automatically call the __str__ method\n",
    "\n",
    "print(p)"
   ]
  },
  {
   "cell_type": "code",
   "execution_count": null,
   "metadata": {},
   "outputs": [],
   "source": [
    "repr(p)"
   ]
  },
  {
   "cell_type": "code",
   "execution_count": null,
   "metadata": {},
   "outputs": [],
   "source": [
    "# We could just eval up the repr output of the object to create the same object\n",
    "\n",
    "p_clone = eval(repr(p))\n",
    "print(p_clone)"
   ]
  },
  {
   "cell_type": "markdown",
   "metadata": {},
   "source": [
    "### Operator Overloading\n",
    "- Operator overloading is to change the way operators work for user-defined types(or Classes). \n",
    "- Let's just look at this code snippet and understand what operator overloading is"
   ]
  },
  {
   "cell_type": "markdown",
   "metadata": {},
   "source": [
    "#### Let's just consider the `+` operator\n",
    "- It works differently for strings, integers and lists\n",
    "- When two integers are added the sum is returned  \n",
    "- More specifically speaking when we perform the `+` operation on Objects of the `Integer` class the sum of the objects is returned."
   ]
  },
  {
   "cell_type": "code",
   "execution_count": null,
   "metadata": {},
   "outputs": [],
   "source": [
    "# + on integers => added\n",
    "print(1 + 2)\n",
    "\n",
    "# + on strings => concatenated\n",
    "print(\"string 1\" + \"string 2\")\n",
    "\n",
    "# + on lists => merged\n",
    "print([1,2,3] + [4,5,6])"
   ]
  },
  {
   "cell_type": "code",
   "execution_count": null,
   "metadata": {},
   "outputs": [],
   "source": [
    "# What implicitly is being done is \n",
    "# The dunder add method is being called on them\n",
    "# It's calling the special method dunder in the background \n",
    "\n",
    "print(int.__add__(1, 2))\n",
    "print(str.__add__(\"string 1\", \"string 2\"))\n",
    "print(list.__add__([1,2,3], [4,5,6]))"
   ]
  },
  {
   "cell_type": "markdown",
   "metadata": {},
   "source": [
    "- So we can basically customize how addition works for our objects by modifying the `__add__` method for our class"
   ]
  },
  {
   "cell_type": "code",
   "execution_count": null,
   "metadata": {},
   "outputs": [],
   "source": [
    "# For demonstrating this let's make a new class\n",
    "# a CartItem Object is just like an item in the cart of your amazon or flipkart store\n",
    "\n",
    "class CartItem:\n",
    "    def __init__(self, name, price):\n",
    "        self.name = name\n",
    "        self.price = price\n",
    "    \n",
    "    def __str__(self):\n",
    "        return f\"Item Name : {self.name} | Price : {self.price}\"\n",
    "\n",
    "    def __add__(self, other):\n",
    "#         if not isinstance(other, CartItem):\n",
    "#             return \"NotImplemented\"\n",
    "        return self.price + other.price"
   ]
  },
  {
   "cell_type": "code",
   "execution_count": null,
   "metadata": {},
   "outputs": [],
   "source": [
    "cart_item_1 = CartItem(\"Macbook Noob\", 5000)\n",
    "cart_item_2 = CartItem(\"Orange Phone\", 3000) "
   ]
  },
  {
   "cell_type": "code",
   "execution_count": null,
   "metadata": {},
   "outputs": [],
   "source": [
    "# We have customized how we add cartitems and we implemented that when we add two cart items its the prices that get added\n",
    "\n",
    "print(cart_item_1 + cart_item_2)"
   ]
  },
  {
   "cell_type": "code",
   "execution_count": null,
   "metadata": {},
   "outputs": [],
   "source": [
    "cart_item_3 = CartItem(\"Macbook Noob\", 6000)\n",
    "print(cart_item_1 + (cart_item_2 + cart_item_3))"
   ]
  },
  {
   "cell_type": "markdown",
   "metadata": {},
   "source": [
    "### More on dunder methods:\n",
    "https://docs.python.org/3/reference/datamodel.html#special-method-names"
   ]
  },
  {
   "cell_type": "markdown",
   "metadata": {},
   "source": [
    "### Inheritance"
   ]
  },
  {
   "cell_type": "markdown",
   "metadata": {},
   "source": [
    "Inheritance is a way to form new classes using classes that have already been defined. The newly formed classes are called derived classes, the classes that we derive from are called base classes. \n",
    "\n",
    "Important benefits of inheritance are code reuse and reduction of complexity of a program. \n",
    "\n",
    "The derived classes (sub classes) override or extend the functionality of base classes (ancestors or parent classes)."
   ]
  },
  {
   "cell_type": "markdown",
   "metadata": {},
   "source": [
    "### `issubclass()`\n",
    "`issubclass(cls1, cls2)` will tell us whether `cls1` is a subclass of `cls2`"
   ]
  },
  {
   "cell_type": "markdown",
   "metadata": {},
   "source": [
    "### `super` keyword \n",
    "-----\n",
    "- The super() builtin returns a proxy object (temporary object of the superclass) that allows us to access methods of the base class.\n",
    "    - Allows us to avoid using the base class name explicitly\n",
    "    - Working with Multiple Inheritance (Which is not in the scope of this session)"
   ]
  },
  {
   "cell_type": "code",
   "execution_count": null,
   "metadata": {},
   "outputs": [],
   "source": [
    "# Code demo in text editor"
   ]
  }
 ],
 "metadata": {
  "kernelspec": {
   "display_name": "Python 3.8.3 64-bit",
   "language": "python",
   "name": "python38364bit20db0d2cca5d476985e5a78c4bb75639"
  },
  "language_info": {
   "codemirror_mode": {
    "name": "ipython",
    "version": 3
   },
   "file_extension": ".py",
   "mimetype": "text/x-python",
   "name": "python",
   "nbconvert_exporter": "python",
   "pygments_lexer": "ipython3",
   "version": "3.8.3"
  }
 },
 "nbformat": 4,
 "nbformat_minor": 2
}
